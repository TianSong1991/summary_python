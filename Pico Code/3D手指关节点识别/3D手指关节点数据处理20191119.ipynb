{
 "cells": [
  {
   "cell_type": "markdown",
   "metadata": {},
   "source": [
    "# 数据分派"
   ]
  },
  {
   "cell_type": "code",
   "execution_count": 1,
   "metadata": {},
   "outputs": [],
   "source": [
    "import os\n",
    "import shutil"
   ]
  },
  {
   "cell_type": "code",
   "execution_count": 8,
   "metadata": {},
   "outputs": [],
   "source": [
    "path1 = 'F:\\\\CV2\\\\data5\\\\index\\\\2'\n",
    "path2 = 'F:\\\\CV2\\\\data5\\\\20191114_Hongfa_index-2_150' "
   ]
  },
  {
   "cell_type": "code",
   "execution_count": 9,
   "metadata": {},
   "outputs": [],
   "source": [
    "if not os.path.exists(path2):\n",
    "    os.makedirs(path2)"
   ]
  },
  {
   "cell_type": "code",
   "execution_count": 7,
   "metadata": {},
   "outputs": [],
   "source": [
    "'''\n",
    "for file1 in os.listdir(path1):\n",
    "    path1_1 = os.path.join(path1,file1)\n",
    "    path2_1 = os.path.join(path2,file1)\n",
    "    os.makedirs(path2_1)\n",
    "    for i in range(450):\n",
    "        file2 = os.listdir(path1_1)[i]\n",
    "        img_file = os.path.join(path1_1,file2)\n",
    "        shutil.move(img_file,path2_1)\n",
    "'''        "
   ]
  },
  {
   "cell_type": "code",
   "execution_count": 10,
   "metadata": {},
   "outputs": [],
   "source": [
    "for file1 in os.listdir(path1):\n",
    "    path1_1 = os.path.join(path1,file1)\n",
    "    path2_2 = os.path.join(path2,file1)\n",
    "    if not os.path.exists(path2_2):\n",
    "        os.makedirs(path2_2)\n",
    "    listfile1 = os.listdir(path1_1)\n",
    "    for i in range(150):\n",
    "        shutil.move(os.path.join(path1_1,listfile1[i]),path2_2)\n"
   ]
  },
  {
   "cell_type": "markdown",
   "metadata": {},
   "source": [
    "# 根据删除label删除数据"
   ]
  },
  {
   "cell_type": "code",
   "execution_count": 1,
   "metadata": {},
   "outputs": [],
   "source": [
    "import os\n",
    "import shutil\n",
    "import pandas as pd\n",
    "import numpy as np"
   ]
  },
  {
   "cell_type": "code",
   "execution_count": 2,
   "metadata": {},
   "outputs": [],
   "source": [
    "data1 = pd.read_table(r'F:\\CV2\\data\\右手label数据\\8_delete_label.txt',header=None)"
   ]
  },
  {
   "cell_type": "code",
   "execution_count": 10,
   "metadata": {},
   "outputs": [],
   "source": [
    "path1 = r'F:\\CV2\\8\\y'"
   ]
  },
  {
   "cell_type": "code",
   "execution_count": 11,
   "metadata": {},
   "outputs": [],
   "source": [
    "num1 = data1.shape[0]"
   ]
  },
  {
   "cell_type": "code",
   "execution_count": 12,
   "metadata": {},
   "outputs": [],
   "source": [
    "for i in range(num1):\n",
    "    pathHandCom_delete = os.path.join(path1,'HandCom',str(data1[0][i].split('.')[0]).zfill(8)+'.png.txt')\n",
    "    os.remove(pathHandCom_delete)\n",
    "    pathpointTxt_delete = os.path.join(path1,'pointTxt',str(data1[0][i].split('.')[0]).zfill(8)+'.txt')\n",
    "    os.remove(pathpointTxt_delete)\n",
    "    pathdepth_delete = os.path.join(path1,'depth',str(data1[0][i].split('.')[0]).zfill(8)+'.png')\n",
    "    os.remove(pathdepth_delete)\n",
    "    pathir_delete = os.path.join(path1,'ir',str(data1[0][i].split('.')[0]).zfill(8)+'.png')\n",
    "    os.remove(pathir_delete)"
   ]
  },
  {
   "cell_type": "markdown",
   "metadata": {},
   "source": [
    "## 删除label多余"
   ]
  },
  {
   "cell_type": "code",
   "execution_count": 1,
   "metadata": {},
   "outputs": [],
   "source": [
    "import os\n",
    "import shutil\n",
    "import pandas as pd\n",
    "import numpy as np"
   ]
  },
  {
   "cell_type": "code",
   "execution_count": 2,
   "metadata": {},
   "outputs": [],
   "source": [
    "data1 = pd.read_table(r'F:\\CV2\\data\\右手label数据\\8_delete_label.txt',header=None)"
   ]
  },
  {
   "cell_type": "code",
   "execution_count": 3,
   "metadata": {},
   "outputs": [],
   "source": [
    "path1 = r'F:\\CV2\\data\\righthanddata\\8\\y\\label'"
   ]
  },
  {
   "cell_type": "code",
   "execution_count": 4,
   "metadata": {},
   "outputs": [],
   "source": [
    "num1 = data1.shape[0]"
   ]
  },
  {
   "cell_type": "code",
   "execution_count": 6,
   "metadata": {},
   "outputs": [],
   "source": [
    "for i in range(num1):\n",
    "    path1_delete = os.path.join(path1,str(data1[0][i].split('.')[0]).zfill(8)+'.png.txt')\n",
    "    os.remove(path1_delete)"
   ]
  },
  {
   "cell_type": "markdown",
   "metadata": {},
   "source": [
    "# 统一label，删除多余数据"
   ]
  },
  {
   "cell_type": "code",
   "execution_count": null,
   "metadata": {},
   "outputs": [],
   "source": [
    "import os\n",
    "import pandas as pd\n",
    "\n",
    "\n",
    "\n",
    "path1_label = r''#北京label文件夹\n",
    "\n",
    "path2_label = r''#青岛label文件夹\n",
    "\n",
    "\n",
    "\n",
    "def find_delete_label():\n",
    "\tdata1 , data2 = [],[]\n",
    "\tfor file1 in os.listdir(path1_label):\n",
    "\t\tdata1.append(int(file1.split('.')[0]))\n",
    "\n",
    "\tfor file2 in os.listdir(path2_label):\n",
    "\t\tdata2.append(int(file2.split('.')[0]))\n",
    "\n",
    "\tdata1 = pd.DataFrame(data1)\n",
    "\tdata1['1'] = 1\n",
    "\n",
    "\tdata2 = pd.DataFrame(data2)\n",
    "\n",
    "\tdata3 = pd.merge(data2,data1,how='left')\n",
    "\n",
    "\tdata4 = data3[data3['1'] != 1]\n",
    "\n",
    "\treturn data4\n",
    "\n",
    "\n",
    "\n",
    "\n",
    "path1 = r''#原始数据路径\n",
    "def deal_data(data4):\n",
    "\tnum1 = data4.shape[0]\n",
    "\tfor i in range(num1):\n",
    "\t\tpathHandCom_delete = os.path.join(path1,'HandCom',str(int(data4.iloc[i][0])).zfill(8)+'.png.txt')\n",
    "\t\tif os.path.exists(pathHandCom_delete):\n",
    "\t\t\tos.remove(pathHandCom_delete)\n",
    "\t\tpathpointTxt_delete = os.path.join(path1,'pointTxt',str(int(data4.iloc[i][0])).zfill(8)+'.txt')\n",
    "\t\tif os.path.exists(pathpointTxt_delete):\n",
    "\t\t\tos.remove(pathpointTxt_delete)\n",
    "\t\tpathdepth_delete = os.path.join(path1,'depth',str(int(data4.iloc[i][0])).zfill(8)+'.png')\n",
    "\t\tif os.path.exists(pathdepth_delete):\n",
    "\t\t\tos.remove(pathdepth_delete)\n",
    "\t\tpathir_delete = os.path.join(path1,'ir',str(int(data4.iloc[i][0])).zfill(8)+'.png')\n",
    "\t\tif os.path.exists(pathir_delete):\n",
    "\t\t\tos.remove(pathir_delete)\n",
    "\n",
    "\n",
    "if __name__ == '__main__':\n",
    "\tdata4 = find_delete_label()\n",
    "\tdeal_data(data4)"
   ]
  },
  {
   "cell_type": "markdown",
   "metadata": {},
   "source": [
    "# 统计总数"
   ]
  },
  {
   "cell_type": "code",
   "execution_count": 32,
   "metadata": {},
   "outputs": [],
   "source": [
    "import os\n",
    "import shutil\n",
    "import pandas as pd\n",
    "import numpy as np"
   ]
  },
  {
   "cell_type": "code",
   "execution_count": 33,
   "metadata": {},
   "outputs": [],
   "source": [
    "path1 = r'F:\\CV2\\data\\TidyData\\pathtree1'"
   ]
  },
  {
   "cell_type": "code",
   "execution_count": 34,
   "metadata": {},
   "outputs": [],
   "source": [
    "sumnum = 0\n",
    "for file1 in os.listdir(path1):\n",
    "    path2 = os.path.join(path1,file1)\n",
    "    for file2 in os.listdir(path2):\n",
    "        path3 = os.path.join(path2,file2)\n",
    "        num1 = len(os.listdir(path3))\n",
    "        sumnum = sumnum + num1"
   ]
  },
  {
   "cell_type": "code",
   "execution_count": 35,
   "metadata": {},
   "outputs": [
    {
     "data": {
      "text/plain": [
       "349"
      ]
     },
     "execution_count": 35,
     "metadata": {},
     "output_type": "execute_result"
    }
   ],
   "source": [
    "sumnum"
   ]
  },
  {
   "cell_type": "markdown",
   "metadata": {},
   "source": [
    "## 查找遗漏label"
   ]
  },
  {
   "cell_type": "code",
   "execution_count": 5,
   "metadata": {},
   "outputs": [],
   "source": [
    "allfile = []"
   ]
  },
  {
   "cell_type": "code",
   "execution_count": 6,
   "metadata": {},
   "outputs": [],
   "source": [
    "def get_all_file(path):\n",
    "    allfilelist = os.listdir(path)\n",
    "    for file in allfilelist:\n",
    "        filepath = os.path.join(path, file)\n",
    "        # 判断是否是文件夹\n",
    "        if os.path.isdir(filepath):\n",
    "            get_all_file(filepath)\n",
    "        else:\n",
    "            # 是文件就将路径添加到列表\n",
    "            allfile.append(int(file.split('.')[0]))\n",
    "    return allfile"
   ]
  },
  {
   "cell_type": "code",
   "execution_count": 10,
   "metadata": {},
   "outputs": [],
   "source": [
    "data1= pd.DataFrame(get_all_file(path1))"
   ]
  },
  {
   "cell_type": "code",
   "execution_count": 9,
   "metadata": {},
   "outputs": [],
   "source": [
    "beijing_label = r'F:\\CV2\\data\\ALLDATA_LABEL\\label'"
   ]
  },
  {
   "cell_type": "code",
   "execution_count": 11,
   "metadata": {},
   "outputs": [],
   "source": [
    "data2 = []\n",
    "for file2 in os.listdir(beijing_label):\n",
    "    data2.append(int(file2.split('.')[0]))\n",
    "\n",
    "\n",
    "data2 = pd.DataFrame(data2)\n",
    "    \n",
    "data1['1'] = 1\n",
    "\n",
    "data3 = pd.merge(data2,data1,how='left')\n",
    "\n",
    "data4 = data3[data3['1'] != 1]"
   ]
  },
  {
   "cell_type": "code",
   "execution_count": 12,
   "metadata": {},
   "outputs": [
    {
     "data": {
      "text/html": [
       "<div>\n",
       "<style scoped>\n",
       "    .dataframe tbody tr th:only-of-type {\n",
       "        vertical-align: middle;\n",
       "    }\n",
       "\n",
       "    .dataframe tbody tr th {\n",
       "        vertical-align: top;\n",
       "    }\n",
       "\n",
       "    .dataframe thead th {\n",
       "        text-align: right;\n",
       "    }\n",
       "</style>\n",
       "<table border=\"1\" class=\"dataframe\">\n",
       "  <thead>\n",
       "    <tr style=\"text-align: right;\">\n",
       "      <th></th>\n",
       "      <th>0</th>\n",
       "      <th>1</th>\n",
       "    </tr>\n",
       "  </thead>\n",
       "  <tbody>\n",
       "    <tr>\n",
       "      <th>316</th>\n",
       "      <td>8863</td>\n",
       "      <td>NaN</td>\n",
       "    </tr>\n",
       "  </tbody>\n",
       "</table>\n",
       "</div>"
      ],
      "text/plain": [
       "        0   1\n",
       "316  8863 NaN"
      ]
     },
     "execution_count": 12,
     "metadata": {},
     "output_type": "execute_result"
    }
   ],
   "source": [
    "data4"
   ]
  },
  {
   "cell_type": "code",
   "execution_count": null,
   "metadata": {},
   "outputs": [],
   "source": []
  },
  {
   "cell_type": "code",
   "execution_count": null,
   "metadata": {},
   "outputs": [],
   "source": []
  },
  {
   "cell_type": "markdown",
   "metadata": {},
   "source": [
    "# 移动清洗后的label数据"
   ]
  },
  {
   "cell_type": "markdown",
   "metadata": {},
   "source": [
    "## 文件重命名"
   ]
  },
  {
   "cell_type": "code",
   "execution_count": 36,
   "metadata": {},
   "outputs": [],
   "source": [
    "import os\n",
    "import shutil\n",
    "import pandas as pd\n",
    "import numpy as np"
   ]
  },
  {
   "cell_type": "code",
   "execution_count": 37,
   "metadata": {},
   "outputs": [],
   "source": [
    "path_1 = r'F:\\CV2\\data\\TidyData\\pathtree1'"
   ]
  },
  {
   "cell_type": "code",
   "execution_count": 38,
   "metadata": {},
   "outputs": [],
   "source": [
    "for file1 in os.listdir(path_1):\n",
    "    \n",
    "    path_2 = os.path.join(path_1,file1)\n",
    "    \n",
    "    if file1 == '两根手指':\n",
    "        for file1_1 in os.listdir(path_2):\n",
    "            path_3 = os.path.join(path_2,file1_1)\n",
    "            if file1_1 == '数字八':\n",
    "                os.rename(path_3,os.path.join(path_2,'NumberEight'))\n",
    "            if file1_1 == '数字二':\n",
    "                os.rename(path_3,os.path.join(path_2,'NumberTwo'))\n",
    "            if file1_1 == '数字六':\n",
    "                os.rename(path_3,os.path.join(path_2,'NumberSix'))\n",
    "        os.rename(path_2,os.path.join(path_1,'TwoFingers'))\n",
    "        \n",
    "    if file1 == '捏取手指':       \n",
    "        for file1_1 in os.listdir(path_2):\n",
    "            path_3 = os.path.join(path_2,file1_1)\n",
    "            if file1_1 == '二指捏取':\n",
    "                os.rename(path_3,os.path.join(path_2,'TwoPinch'))\n",
    "            if file1_1 == '三指捏取':\n",
    "                os.rename(path_3,os.path.join(path_2,'ThreePinch'))\n",
    "        os.rename(path_2,os.path.join(path_1,'PinchRelated'))\n",
    "                \n",
    "    if file1 == '三根手指':\n",
    "        for file1_1 in os.listdir(path_2):\n",
    "            path_3 = os.path.join(path_2,file1_1)\n",
    "            if file1_1 == '数字三':\n",
    "                os.rename(path_3,os.path.join(path_2,'NumberThree'))\n",
    "        os.rename(path_2,os.path.join(path_1,'ThreeFingers'))                \n",
    "                \n",
    "    if file1 == '四根手指':    \n",
    "        for file1_1 in os.listdir(path_2):\n",
    "            path_3 = os.path.join(path_2,file1_1)\n",
    "            if file1_1 == '数字四':\n",
    "                os.rename(path_3,os.path.join(path_2,'NumberFour'))\n",
    "        os.rename(path_2,os.path.join(path_1,'FourFingers')) \n",
    "                \n",
    "    if file1 == '拖拽手指': \n",
    "        for file1_1 in os.listdir(path_2):\n",
    "            path_3 = os.path.join(path_2,file1_1)\n",
    "            if file1_1 == '拖拽':\n",
    "                os.rename(path_3,os.path.join(path_2,'Drag'))\n",
    "        os.rename(path_2,os.path.join(path_1,'DragRelated'))\n",
    "        \n",
    "    if file1 == '握拳手指':\n",
    "        for file1_1 in os.listdir(path_2):\n",
    "            path_3 = os.path.join(path_2,file1_1)\n",
    "            if file1_1 == '比心':\n",
    "                os.rename(path_3,os.path.join(path_2,'Heart'))\n",
    "            if file1_1 == '握拳':\n",
    "                os.rename(path_3,os.path.join(path_2,'Fist'))\n",
    "            if file1_1 == '抓取':\n",
    "                os.rename(path_3,os.path.join(path_2,'Grab'))\n",
    "        os.rename(path_2,os.path.join(path_1,'FistRelated'))\n",
    "        \n",
    "    if file1 == '五根手指':\n",
    "        for file1_1 in os.listdir(path_2):\n",
    "            path_3 = os.path.join(path_2,file1_1)\n",
    "            if file1_1 == '模拟打字':\n",
    "                os.rename(path_3,os.path.join(path_2,'AnalogTyping'))\n",
    "            if file1_1 == '五指张开合并':\n",
    "                os.rename(path_3,os.path.join(path_2,'FiveFingersOpen_Closed'))\n",
    "        os.rename(path_2,os.path.join(path_1,'FiveFingers'))\n",
    "        \n",
    "    if file1 == '一根手指':       \n",
    "        for file1_1 in os.listdir(path_2):\n",
    "            path_3 = os.path.join(path_2,file1_1)\n",
    "            if file1_1 == '点赞':\n",
    "                os.rename(path_3,os.path.join(path_2,'ThumbUp'))\n",
    "            if file1_1 == '数字九':\n",
    "                os.rename(path_3,os.path.join(path_2,'NumberNine'))\n",
    "            if file1_1 == '数字一':\n",
    "                os.rename(path_3,os.path.join(path_2,'NumberOne'))\n",
    "        os.rename(path_2,os.path.join(path_1,'OneFinger'))\n",
    "                \n",
    "                \n",
    "                "
   ]
  },
  {
   "cell_type": "code",
   "execution_count": null,
   "metadata": {},
   "outputs": [],
   "source": []
  },
  {
   "cell_type": "markdown",
   "metadata": {},
   "source": [
    "## 开始移动label文件"
   ]
  },
  {
   "cell_type": "code",
   "execution_count": 39,
   "metadata": {},
   "outputs": [],
   "source": [
    "import os\n",
    "import shutil\n",
    "import pandas as pd\n",
    "import numpy as np"
   ]
  },
  {
   "cell_type": "code",
   "execution_count": 40,
   "metadata": {},
   "outputs": [],
   "source": [
    "move1_path = r'F:\\CV2\\data\\TidyData\\pathtree1'"
   ]
  },
  {
   "cell_type": "code",
   "execution_count": 41,
   "metadata": {},
   "outputs": [],
   "source": [
    "final_path = r'F:\\pathTree1'\n",
    "if not os.path.exists(final_path):\n",
    "    os.makedirs(final_path)"
   ]
  },
  {
   "cell_type": "code",
   "execution_count": 42,
   "metadata": {},
   "outputs": [],
   "source": [
    "for file1 in os.listdir(move1_path):\n",
    "    move2_path = os.path.join(move1_path,file1)\n",
    "    final1_path = os.path.join(final_path,file1)\n",
    "    if not os.path.exists(final1_path):\n",
    "        os.makedirs(final1_path)\n",
    "    for file2 in os.listdir(move2_path):\n",
    "        move3_path = os.path.join(move2_path,file2)\n",
    "        if len(os.listdir(move3_path)) == 0:\n",
    "            continue\n",
    "        final2_path = os.path.join(final1_path,file2)\n",
    "        final3_path = os.path.join(final2_path,'0610_HeadWear_1','label')\n",
    "        if not os.path.exists(final3_path):\n",
    "            os.makedirs(final3_path)\n",
    "        for file3 in os.listdir(move3_path):\n",
    "            move_file = os.path.join(move3_path,file3)\n",
    "            shutil.copy(move_file,final3_path)\n",
    "            "
   ]
  },
  {
   "cell_type": "markdown",
   "metadata": {},
   "source": [
    "## 移动其他文件夹"
   ]
  },
  {
   "cell_type": "code",
   "execution_count": 44,
   "metadata": {},
   "outputs": [],
   "source": [
    "import os\n",
    "import shutil\n",
    "import pandas as pd\n",
    "import numpy as np"
   ]
  },
  {
   "cell_type": "code",
   "execution_count": 45,
   "metadata": {},
   "outputs": [],
   "source": [
    "path = r'F:\\pathTree1'"
   ]
  },
  {
   "cell_type": "code",
   "execution_count": 46,
   "metadata": {},
   "outputs": [],
   "source": [
    "original_path = r'F:\\CV2\\data\\righthanddata\\20191118\\0610_HeadWear_padding-1'"
   ]
  },
  {
   "cell_type": "code",
   "execution_count": 47,
   "metadata": {},
   "outputs": [],
   "source": [
    "label_path = []"
   ]
  },
  {
   "cell_type": "code",
   "execution_count": 48,
   "metadata": {},
   "outputs": [],
   "source": [
    "def get_all_file_label(path):\n",
    "    allfilelist = os.listdir(path)\n",
    "    for file in allfilelist:\n",
    "        filepath = os.path.join(path, file)\n",
    "        # 判断是否是文件夹\n",
    "        if os.path.isdir(filepath):\n",
    "            get_all_file_label(filepath)\n",
    "        else:\n",
    "            # 是文件就将路径添加到列表\n",
    "            label_path.append(filepath)\n",
    "    return label_path"
   ]
  },
  {
   "cell_type": "code",
   "execution_count": 49,
   "metadata": {},
   "outputs": [],
   "source": [
    "label_path1 = pd.DataFrame(get_all_file_label(path))"
   ]
  },
  {
   "cell_type": "code",
   "execution_count": 50,
   "metadata": {},
   "outputs": [],
   "source": [
    "label_path1.columns =  ['path1']"
   ]
  },
  {
   "cell_type": "code",
   "execution_count": 51,
   "metadata": {},
   "outputs": [],
   "source": [
    "label_path1['selected'] = label_path1.path1.apply(lambda x: '0610_HeadWear_1' in x)"
   ]
  },
  {
   "cell_type": "code",
   "execution_count": 52,
   "metadata": {},
   "outputs": [],
   "source": [
    "selected_data = label_path1[label_path1.selected == True]"
   ]
  },
  {
   "cell_type": "code",
   "execution_count": 53,
   "metadata": {},
   "outputs": [
    {
     "data": {
      "text/plain": [
       "(349, 2)"
      ]
     },
     "execution_count": 53,
     "metadata": {},
     "output_type": "execute_result"
    }
   ],
   "source": [
    "selected_data.shape"
   ]
  },
  {
   "cell_type": "code",
   "execution_count": 54,
   "metadata": {},
   "outputs": [],
   "source": [
    "num1 = selected_data.shape[0]"
   ]
  },
  {
   "cell_type": "code",
   "execution_count": 55,
   "metadata": {},
   "outputs": [],
   "source": [
    "for i in range(num1):\n",
    "    path_extension1,label_txt = os.path.split(selected_data.iloc[i][0])\n",
    "    splitcontent = label_txt.split('.')\n",
    "    original_depth_path = os.path.join(original_path,'depth',splitcontent[0]+'.png')\n",
    "    original_ir_path = os.path.join(original_path,'ir',splitcontent[0]+'.png')\n",
    "    original_HandCom_path = os.path.join(original_path,'HandCom',label_txt)\n",
    "    original_pointTxt_path = os.path.join(original_path,'pointTxt',splitcontent[0]+'.txt')\n",
    "    move_path1,name1 = os.path.split(path_extension1)\n",
    "    move_depth_path = os.path.join(move_path1,'depth')\n",
    "    move_ir_path = os.path.join(move_path1,'ir')\n",
    "    move_HandCom_path = os.path.join(move_path1,'HandCom')\n",
    "    move_pointTxt_path = os.path.join(move_path1,'pointTxt')\n",
    "    if not os.path.exists(move_depth_path):\n",
    "        os.makedirs(move_depth_path)\n",
    "    if not os.path.exists(move_ir_path):\n",
    "        os.makedirs(move_ir_path)\n",
    "    if not os.path.exists(move_HandCom_path):\n",
    "        os.makedirs(move_HandCom_path)\n",
    "    if not os.path.exists(move_pointTxt_path):\n",
    "        os.makedirs(move_pointTxt_path)\n",
    "    shutil.copy(original_depth_path,move_depth_path)\n",
    "    shutil.copy(original_ir_path,move_ir_path)\n",
    "    shutil.copy(original_HandCom_path,move_HandCom_path)\n",
    "    shutil.copy(original_pointTxt_path,move_pointTxt_path)\n",
    "    \n",
    "    "
   ]
  },
  {
   "cell_type": "code",
   "execution_count": null,
   "metadata": {},
   "outputs": [],
   "source": []
  },
  {
   "cell_type": "code",
   "execution_count": 72,
   "metadata": {},
   "outputs": [],
   "source": [
    "test2['path1'] = test2.path1.apply(lambda x: '\\\\'.join(x.split('\\\\')[:-2]))\n"
   ]
  },
  {
   "cell_type": "code",
   "execution_count": 75,
   "metadata": {},
   "outputs": [],
   "source": [
    "test3 = test2.drop_duplicates()"
   ]
  },
  {
   "cell_type": "code",
   "execution_count": null,
   "metadata": {},
   "outputs": [],
   "source": []
  },
  {
   "cell_type": "code",
   "execution_count": null,
   "metadata": {},
   "outputs": [],
   "source": []
  },
  {
   "cell_type": "code",
   "execution_count": null,
   "metadata": {},
   "outputs": [],
   "source": []
  },
  {
   "cell_type": "code",
   "execution_count": null,
   "metadata": {},
   "outputs": [],
   "source": []
  },
  {
   "cell_type": "code",
   "execution_count": null,
   "metadata": {},
   "outputs": [],
   "source": []
  },
  {
   "cell_type": "code",
   "execution_count": null,
   "metadata": {},
   "outputs": [],
   "source": []
  },
  {
   "cell_type": "code",
   "execution_count": null,
   "metadata": {},
   "outputs": [],
   "source": []
  },
  {
   "cell_type": "code",
   "execution_count": null,
   "metadata": {},
   "outputs": [],
   "source": []
  }
 ],
 "metadata": {
  "kernelspec": {
   "display_name": "Python 3",
   "language": "python",
   "name": "python3"
  },
  "language_info": {
   "codemirror_mode": {
    "name": "ipython",
    "version": 3
   },
   "file_extension": ".py",
   "mimetype": "text/x-python",
   "name": "python",
   "nbconvert_exporter": "python",
   "pygments_lexer": "ipython3",
   "version": "3.6.5"
  },
  "toc": {
   "base_numbering": 1,
   "nav_menu": {},
   "number_sections": true,
   "sideBar": true,
   "skip_h1_title": false,
   "title_cell": "Table of Contents",
   "title_sidebar": "Contents",
   "toc_cell": false,
   "toc_position": {},
   "toc_section_display": true,
   "toc_window_display": true
  }
 },
 "nbformat": 4,
 "nbformat_minor": 2
}
