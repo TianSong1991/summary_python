{
 "cells": [
  {
   "cell_type": "markdown",
   "metadata": {},
   "source": [
    "## 数据check流程处理程序"
   ]
  },
  {
   "cell_type": "code",
   "execution_count": 1,
   "metadata": {},
   "outputs": [],
   "source": [
    "import os\n",
    "import numpy as np\n",
    "import pandas as pd\n",
    "import shutil"
   ]
  },
  {
   "cell_type": "code",
   "execution_count": 60,
   "metadata": {},
   "outputs": [],
   "source": [
    "deal_path = 'E:\\\\colleague\\\\dealfiles\\\\sevn\\\\0914'\n",
    "standard_path = 'I:\\\\Project_FDS\\\\original_data\\\\HX_data\\\\data0912\\\\smoke\\\\picture'\n",
    "save_csv_path = 'H:\\\\Tidy_delete_bmp\\\\fds_project\\\\0912\\\\smoke'\n",
    "#save_csv_path = 'H:\\\\Tidy_delete_bmp\\\\0912\\\\callphone_righthand'#左手\n",
    "#save_csv_path = 'H:\\\\Tidy_delete_bmp\\\\0912\\\\smoke'#抽烟"
   ]
  },
  {
   "cell_type": "code",
   "execution_count": 61,
   "metadata": {},
   "outputs": [],
   "source": [
    "files1 = os.listdir(deal_path)"
   ]
  },
  {
   "cell_type": "code",
   "execution_count": 62,
   "metadata": {},
   "outputs": [],
   "source": [
    "root_files1 = os.listdir(standard_path)"
   ]
  },
  {
   "cell_type": "markdown",
   "metadata": {},
   "source": [
    "## 一、删除收到文件下的多余文件，包括bmp、json、fad、xml等"
   ]
  },
  {
   "cell_type": "markdown",
   "metadata": {},
   "source": [
    "#### <font color = \"red\">有bmp和json文件运行此程序，如果只有bmp或者json禁止运行此程序</font>"
   ]
  },
  {
   "cell_type": "code",
   "execution_count": 63,
   "metadata": {},
   "outputs": [
    {
     "name": "stdout",
     "output_type": "stream",
     "text": [
      "Done!\n"
     ]
    }
   ],
   "source": [
    "for file1 in files1:\n",
    "    path1 = os.path.join(deal_path,file1)\n",
    "    files2 = os.listdir(path1)\n",
    "    i = 0 \n",
    "    j = 0\n",
    "    data1 = pd.DataFrame(np.zeros(30000),columns = ['bmpname'])\n",
    "    data2 = pd.DataFrame(np.zeros(30000),columns = ['jsonname'])\n",
    "    for file2 in files2:\n",
    "        (name1,extension1) = os.path.splitext(file2)\n",
    "        if extension1 == '.bmp':\n",
    "            data1['bmpname'][i] = name1\n",
    "            i = i + 1\n",
    "        elif extension1 == '.json':\n",
    "            (name2,extension2) = os.path.splitext(name1)\n",
    "            data2['jsonname'][j] = name2\n",
    "            j = j + 1\n",
    "        else:\n",
    "            path2 = os.path.join(path1,file2)\n",
    "            print(path2)\n",
    "            os.remove(path2)\n",
    "    data1 = data1[data1.bmpname > 0]\n",
    "    data2 = data2[data2.jsonname > 0]\n",
    "    if data1.shape[0] <= data2.shape[0]:\n",
    "        data3 = pd.merge(left=data2, right=data1, how='left', left_on='jsonname', right_on='bmpname')\n",
    "        data3[\"bz\"] = data3[\"jsonname\"] - data3[\"bmpname\"]\n",
    "        rmdata = pd.DataFrame(data3[data3.bz != 0][\"jsonname\"].astype(np.int64).astype(np.str))\n",
    "        rmdata[\"jsonname\"] = rmdata[\"jsonname\"] + '.bmp.json'\n",
    "        for m in rmdata.index:\n",
    "            rmfile = os.path.join(path1,rmdata[\"jsonname\"][m])\n",
    "            print(rmfile)\n",
    "            os.remove(rmfile)\n",
    "    else:\n",
    "        data3 = pd.merge(left=data1, right=data2, how='left', left_on='bmpname', right_on='jsonname')\n",
    "        data3[\"bz\"] = data3[\"bmpname\"] - data3[\"jsonname\"]\n",
    "        rmdata = pd.DataFrame(data3[data3.bz != 0][\"bmpname\"].astype(np.int64).astype(np.str))\n",
    "        rmdata[\"bmpname\"] = rmdata[\"bmpname\"] + '.bmp'\n",
    "        for m in rmdata.index:\n",
    "            rmfile = os.path.join(path1,rmdata[\"bmpname\"][m])\n",
    "            print(rmfile)\n",
    "            os.remove(rmfile)\n",
    "    del data3,rmdata \n",
    "print(\"Done!\")"
   ]
  },
  {
   "cell_type": "markdown",
   "metadata": {},
   "source": [
    "## 二、处理的数据是bmp文件并保存csv"
   ]
  },
  {
   "cell_type": "code",
   "execution_count": 64,
   "metadata": {},
   "outputs": [],
   "source": [
    "for file1 in files1:\n",
    "    path1 = os.path.join(deal_path,file1)\n",
    "    files2 = os.listdir(path1)\n",
    "    i = 0 \n",
    "    j = 0\n",
    "    data1 = pd.DataFrame(np.zeros(30000),columns = ['bmpname'])\n",
    "    data2 = pd.DataFrame(np.zeros(30000),columns = ['fullbmpname'])\n",
    "    for file2 in files2:\n",
    "        (name1,extension1) = os.path.splitext(file2)\n",
    "        if extension1 == '.bmp':\n",
    "            data1['bmpname'][i] = name1\n",
    "            i = i + 1\n",
    "        elif extension1 == '.json':\n",
    "            pass\n",
    "        else:\n",
    "            path2 = os.path.join(path1,file2)\n",
    "            print(path2)\n",
    "            os.remove(path2)\n",
    "    data1 = data1[data1.bmpname > 0]\n",
    "    for root_file1 in root_files1:\n",
    "        if file1 == root_file1:\n",
    "            root_path1 = os.path.join(standard_path,root_file1)\n",
    "            root_files2 = os.listdir(root_path1)\n",
    "            for root_file2 in root_files2:\n",
    "                (name2,extension2) = os.path.splitext(root_file2)\n",
    "                if extension2 == '.bmp':\n",
    "                    data2['fullbmpname'][j] = name2\n",
    "                    j = j + 1   \n",
    "            data2 = data2[data2.fullbmpname > 0]\n",
    "            if data1.shape[0] <= data2.shape[0]:\n",
    "                data3 = pd.merge(left=data2, right=data1, how='left', left_on='fullbmpname', right_on='bmpname')\n",
    "                data3[\"bz\"] = data3[\"fullbmpname\"] - data3[\"bmpname\"]\n",
    "                rmdata = pd.DataFrame(data3[data3.bz != 0][\"fullbmpname\"].astype(np.int64).astype(np.str))\n",
    "                del data3\n",
    "                rmdata[\"fullbmpname\"] = rmdata[\"fullbmpname\"] + '.bmp'\n",
    "                rmdata.columns = ['deletebmp']\n",
    "                rmdata.to_csv(save_csv_path+'\\\\'+file1+'.csv',index = False)\n",
    "                del rmdata\n",
    "            else:\n",
    "                print(\"error\")\n",
    "                print(file1) "
   ]
  },
  {
   "cell_type": "markdown",
   "metadata": {},
   "source": [
    "### ~~三、移动json文件~~"
   ]
  },
  {
   "cell_type": "code",
   "execution_count": 26,
   "metadata": {},
   "outputs": [],
   "source": [
    "import os\n",
    "import numpy as np\n",
    "import pandas as pd\n",
    "import shutil"
   ]
  },
  {
   "cell_type": "code",
   "execution_count": 27,
   "metadata": {},
   "outputs": [],
   "source": [
    "files1 = os.listdir(deal_path)"
   ]
  },
  {
   "cell_type": "code",
   "execution_count": 28,
   "metadata": {},
   "outputs": [],
   "source": [
    "for file1 in files1:\n",
    "    path1 = os.path.join(deal_path,file1)\n",
    "    files2 = os.listdir(path1)\n",
    "    for file2 in files2:\n",
    "        name1 = file2 + '.json'\n",
    "        root_json_path = os.path.join(standard_path,file1,name1)\n",
    "        move_path = os.path.join(deal_path,file1)\n",
    "        shutil.copy(root_json_path,move_path)\n",
    " "
   ]
  },
  {
   "cell_type": "markdown",
   "metadata": {},
   "source": [
    "## 四、移动删除的bmp文件"
   ]
  },
  {
   "cell_type": "code",
   "execution_count": 103,
   "metadata": {},
   "outputs": [],
   "source": [
    "import os\n",
    "import numpy as np\n",
    "import pandas as pd\n",
    "import shutil"
   ]
  },
  {
   "cell_type": "code",
   "execution_count": 102,
   "metadata": {},
   "outputs": [],
   "source": [
    "csv_path = 'H:\\\\Tidy_delete_bmp\\\\fds_project\\\\0913\\\\smoke'\n",
    "move_path = 'I:\\\\Project_FDS\\\\Tidy_data\\\\HX_data\\\\0913\\\\smoke'\n",
    "standard_path = 'I:\\\\Project_FDS\\\\original_data\\\\HX_data\\\\0913\\\\smoke\\\\picture'"
   ]
  },
  {
   "cell_type": "code",
   "execution_count": 104,
   "metadata": {},
   "outputs": [],
   "source": [
    "if not os.path.exists(move_path):\n",
    "    os.makedirs(move_path)"
   ]
  },
  {
   "cell_type": "code",
   "execution_count": 105,
   "metadata": {},
   "outputs": [],
   "source": [
    "os.chdir(csv_path)"
   ]
  },
  {
   "cell_type": "code",
   "execution_count": 106,
   "metadata": {},
   "outputs": [],
   "source": [
    "csv_files = os.listdir(csv_path)"
   ]
  },
  {
   "cell_type": "code",
   "execution_count": 107,
   "metadata": {},
   "outputs": [
    {
     "data": {
      "text/plain": [
       "9"
      ]
     },
     "execution_count": 107,
     "metadata": {},
     "output_type": "execute_result"
    }
   ],
   "source": [
    "csv_num = len(csv_files)\n",
    "csv_num"
   ]
  },
  {
   "cell_type": "code",
   "execution_count": 108,
   "metadata": {},
   "outputs": [],
   "source": [
    "for i in range(csv_num):\n",
    "    data1 = pd.read_csv(csv_files[i])\n",
    "    num1 = data1.shape[0]\n",
    "    (name1,extension1) = os.path.splitext(csv_files[i])\n",
    "    path1 = os.path.join(standard_path,name1)\n",
    "    move_path1 = os.path.join(move_path,name1)\n",
    "    if not os.path.exists(move_path1):\n",
    "        os.mkdir(move_path1)\n",
    "    for j in range(num1):\n",
    "        bmpfilepath = path1 + '\\\\' + data1['deletebmp'][j]\n",
    "        bmpfilepath1 = path1 + '\\\\' + data1['deletebmp'][j] + '.json'\n",
    "        shutil.move(bmpfilepath,move_path1)  \n",
    "        shutil.move(bmpfilepath1,move_path1)\n",
    "    #print(i)"
   ]
  },
  {
   "cell_type": "code",
   "execution_count": null,
   "metadata": {},
   "outputs": [],
   "source": []
  }
 ],
 "metadata": {
  "kernelspec": {
   "display_name": "Python 3",
   "language": "python",
   "name": "python3"
  },
  "language_info": {
   "codemirror_mode": {
    "name": "ipython",
    "version": 3
   },
   "file_extension": ".py",
   "mimetype": "text/x-python",
   "name": "python",
   "nbconvert_exporter": "python",
   "pygments_lexer": "ipython3",
   "version": "3.6.5"
  },
  "toc": {
   "base_numbering": 1,
   "nav_menu": {},
   "number_sections": true,
   "sideBar": true,
   "skip_h1_title": false,
   "title_cell": "Table of Contents",
   "title_sidebar": "Contents",
   "toc_cell": false,
   "toc_position": {},
   "toc_section_display": true,
   "toc_window_display": false
  }
 },
 "nbformat": 4,
 "nbformat_minor": 2
}
