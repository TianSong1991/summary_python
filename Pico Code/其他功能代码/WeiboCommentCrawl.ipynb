{
 "cells": [
  {
   "cell_type": "code",
   "execution_count": 1,
   "metadata": {},
   "outputs": [],
   "source": [
    "from selenium import webdriver\n",
    "from selenium.common.exceptions import NoSuchElementException\n",
    "import time\n",
    "import pandas as pd"
   ]
  },
  {
   "cell_type": "code",
   "execution_count": 2,
   "metadata": {},
   "outputs": [],
   "source": [
    "driver = webdriver.Chrome()"
   ]
  },
  {
   "cell_type": "code",
   "execution_count": 3,
   "metadata": {},
   "outputs": [],
   "source": [
    "driver.get('https://weibo.com')"
   ]
  },
  {
   "cell_type": "code",
   "execution_count": 4,
   "metadata": {},
   "outputs": [],
   "source": [
    "driver.find_element_by_id('loginname').send_keys('******')\n",
    "\n",
    "driver.find_element_by_name('password').send_keys('******')"
   ]
  },
  {
   "cell_type": "code",
   "execution_count": null,
   "metadata": {},
   "outputs": [],
   "source": [
    "driver.find_element_by_xpath('//*[@id=\"pl_login_form\"]/div/div[3]/div[6]/a').click()\n",
    "time.sleep(10)"
   ]
  },
  {
   "cell_type": "code",
   "execution_count": 5,
   "metadata": {},
   "outputs": [],
   "source": [
    "driver.get('https://www.weibo.com/mulberryofficial?profile_ftype=1&is_all=1#_0')"
   ]
  },
  {
   "cell_type": "code",
   "execution_count": 39,
   "metadata": {},
   "outputs": [],
   "source": [
    "def switch_to_window():\n",
    "    nowhandle=driver.current_window_handle\n",
    "\n",
    "    allhandles=driver.window_handles\n",
    "\n",
    "    for handle in allhandles:\n",
    "        if handle != nowhandle:\n",
    "            driver.switch_to_window(handle)"
   ]
  },
  {
   "cell_type": "code",
   "execution_count": 40,
   "metadata": {},
   "outputs": [],
   "source": [
    "def use_mouse_add_hide_content():\n",
    "    for i in range(3):\n",
    "        driver.execute_script('window.scrollTo(0,1000000)')\n",
    "        time.sleep(2)"
   ]
  },
  {
   "cell_type": "code",
   "execution_count": 41,
   "metadata": {},
   "outputs": [],
   "source": [
    "def get_comment_time():\n",
    "    for i in range(500):\n",
    "        try:\n",
    "            element = driver.find_element_by_class_name(\"more_txt\")\n",
    "            driver.find_element_by_class_name(\"more_txt\").click()\n",
    "            time.sleep(1)\n",
    "        except NoSuchElementException as e:\n",
    "            #print(e)\n",
    "            break"
   ]
  },
  {
   "cell_type": "code",
   "execution_count": 42,
   "metadata": {},
   "outputs": [],
   "source": [
    "def write_to_txt(commentdata_1,timedata):\n",
    "    for i in range(len(commentdata_1)):\n",
    "        with open('D:\\\\comment_time.txt',mode='a+',encoding='utf-8') as f:#数据保存地址\n",
    "            f.write(commentdata_1.iloc[i,0])\n",
    "            f.write('\\t')\n",
    "            f.write(timedata[i+1].text)\n",
    "            f.write('\\n')"
   ]
  },
  {
   "cell_type": "code",
   "execution_count": 46,
   "metadata": {},
   "outputs": [],
   "source": [
    "def get_one_page():\n",
    "    for num in range(2,47):\n",
    "        print(\"The {} comment is start!\".format(num))\n",
    "        try:\n",
    "            elementpath = driver.find_element_by_xpath('//*[@id=\"Pl_Official_MyProfileFeed__23\"]/div/div['+str(num)+']/div[1]/div[3]/div[2]/a[1]')\n",
    "        except NoSuchElementException as e:\n",
    "            continue\n",
    "        #use_mouse_add_hide_content()\n",
    "        if driver.find_element_by_xpath('//*[@id=\"Pl_Official_MyProfileFeed__23\"]/div/div['+str(num)+']/div[2]/div/ul/li[3]/a/span/span/span/em[2]').text == '评论':\n",
    "            continue\n",
    "        driver.find_element_by_xpath('//*[@id=\"Pl_Official_MyProfileFeed__23\"]/div/div['+str(num)+']/div[1]/div[3]/div[2]/a[1]').click()\n",
    "        time.sleep(2)\n",
    "        switch_to_window()\n",
    "\n",
    "        use_mouse_add_hide_content()\n",
    "\n",
    "        get_comment_time()\n",
    "\n",
    "        commentdata = driver.find_elements_by_class_name(\"WB_text\")\n",
    "        timedata = driver.find_elements_by_css_selector(\"[class='WB_from S_txt2']\")\n",
    "        if len(commentdata) >= 2:\n",
    "            commentdata_1 = pd.DataFrame([commentdata[1].text],columns=[\"text\"])\n",
    "            for i in range(2,len(commentdata)):\n",
    "                commentdata_2 = pd.DataFrame([commentdata[i].text],columns=[\"text\"])\n",
    "                if '：' in commentdata_2[\"text\"][0]:\n",
    "                    commentdata_1 = pd.concat((commentdata_1,commentdata_2))\n",
    "\n",
    "            write_to_txt(commentdata_1,timedata)\n",
    "\n",
    "        driver.close()\n",
    "        allhandles=driver.window_handles\n",
    "        for handle in allhandles:\n",
    "            driver.switch_to_window(handle)\n",
    "        #time.sleep(5)\n",
    "\n",
    "    "
   ]
  },
  {
   "cell_type": "code",
   "execution_count": null,
   "metadata": {},
   "outputs": [],
   "source": [
    "get_one_page()"
   ]
  },
  {
   "cell_type": "code",
   "execution_count": null,
   "metadata": {},
   "outputs": [],
   "source": [
    "for m in range(28,36):\n",
    "    driver.find_element_by_link_text('下一页').click()\n",
    "    time.sleep(15)\n",
    "    print(\"The page {} is started!\".format(m))\n",
    "    start_time = time.clock()\n",
    "    get_one_page()\n",
    "    print(\"The page {} is over!\".format(m))\n",
    "    print(\"Time used:\",time.clock()-start_time)\n",
    "\n",
    "    #use_mouse_add_hide_content()"
   ]
  },
  {
   "cell_type": "code",
   "execution_count": null,
   "metadata": {},
   "outputs": [],
   "source": []
  },
  {
   "cell_type": "code",
   "execution_count": null,
   "metadata": {},
   "outputs": [],
   "source": []
  },
  {
   "cell_type": "code",
   "execution_count": null,
   "metadata": {},
   "outputs": [],
   "source": []
  }
 ],
 "metadata": {
  "kernelspec": {
   "display_name": "Python 3",
   "language": "python",
   "name": "python3"
  },
  "language_info": {
   "codemirror_mode": {
    "name": "ipython",
    "version": 3
   },
   "file_extension": ".py",
   "mimetype": "text/x-python",
   "name": "python",
   "nbconvert_exporter": "python",
   "pygments_lexer": "ipython3",
   "version": "3.6.5"
  },
  "toc": {
   "base_numbering": 1,
   "nav_menu": {},
   "number_sections": true,
   "sideBar": true,
   "skip_h1_title": false,
   "title_cell": "Table of Contents",
   "title_sidebar": "Contents",
   "toc_cell": false,
   "toc_position": {},
   "toc_section_display": true,
   "toc_window_display": false
  }
 },
 "nbformat": 4,
 "nbformat_minor": 2
}
